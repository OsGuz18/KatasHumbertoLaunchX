{
 "cells": [
  {
   "cell_type": "markdown",
   "metadata": {},
   "source": [
    "# KATA Módulo 09"
   ]
  },
  {
   "cell_type": "markdown",
   "metadata": {},
   "source": [
    "## Ejercicio 01"
   ]
  },
  {
   "cell_type": "code",
   "execution_count": 14,
   "metadata": {},
   "outputs": [],
   "source": [
    "def reporte_combustible(tanque1,tanque2,tanque3):\n",
    "    promedio=(tanque1 + tanque2 + tanque3)/3\n",
    "    return f\"\"\" Reporte:\n",
    "    Promedio total: {promedio} %\n",
    "    Tanque 1:{tanque1}%\n",
    "    Tanque 2:{tanque2}%\n",
    "    Tanque 3:{tanque3}%\n",
    "    \"\"\""
   ]
  },
  {
   "cell_type": "code",
   "execution_count": 15,
   "metadata": {},
   "outputs": [
    {
     "name": "stdout",
     "output_type": "stream",
     "text": [
      " Reporte:\n",
      "    Promedio total: 133.33333333333334 %\n",
      "    Tanque 1:50%\n",
      "    Tanque 2:150%\n",
      "    Tanque 3:200%\n",
      "    \n"
     ]
    }
   ],
   "source": [
    "print(reporte_combustible(50,150,200))"
   ]
  },
  {
   "cell_type": "code",
   "execution_count": 16,
   "metadata": {},
   "outputs": [
    {
     "name": "stdout",
     "output_type": "stream",
     "text": [
      "20.0\n"
     ]
    }
   ],
   "source": [
    "def promedio(valores):\n",
    "    total=sum(valores)\n",
    "    numero_valores=len(valores)\n",
    "    return total/numero_valores\n",
    "\n",
    "print(promedio([10,20,30]))"
   ]
  },
  {
   "cell_type": "code",
   "execution_count": 17,
   "metadata": {},
   "outputs": [
    {
     "name": "stdout",
     "output_type": "stream",
     "text": [
      " Reporte:\n",
      "    Promedio total: 150.0 %\n",
      "    Tanque 1:100%\n",
      "    Tanque 2:150%\n",
      "    Tanque 3:200%\n",
      "    \n"
     ]
    }
   ],
   "source": [
    "def reporte_combustible(tanque1,tanque2,tanque3):\n",
    "    return f\"\"\" Reporte:\n",
    "    Promedio total: {promedio([tanque1,tanque2,tanque3])} %\n",
    "    Tanque 1:{tanque1}%\n",
    "    Tanque 2:{tanque2}%\n",
    "    Tanque 3:{tanque3}%\n",
    "    \"\"\"\n",
    "\n",
    "print(reporte_combustible(100,150,200))"
   ]
  },
  {
   "cell_type": "markdown",
   "metadata": {},
   "source": [
    "## Ejercicio 02"
   ]
  },
  {
   "cell_type": "code",
   "execution_count": 18,
   "metadata": {},
   "outputs": [
    {
     "name": "stdout",
     "output_type": "stream",
     "text": [
      "\n",
      "    Mision a Marte\n",
      "    Tiempo total de viaje 70 minutos\n",
      "    Total de combustible 2150 galones\n",
      "    \n"
     ]
    }
   ],
   "source": [
    "def reporte_mision(tiempo_lanzamiento,tiempo_vuelo,destino,tanque2,tanque1):\n",
    "    return f\"\"\"\n",
    "    Mision a {destino}\n",
    "    Tiempo total de viaje {tiempo_lanzamiento + tiempo_vuelo} minutos\n",
    "    Total de combustible {tanque2 + tanque1} galones\n",
    "    \"\"\"\n",
    "\n",
    "\n",
    "print(reporte_mision(20,50,\"Marte\",150,2000))"
   ]
  },
  {
   "cell_type": "code",
   "execution_count": 20,
   "metadata": {},
   "outputs": [
    {
     "name": "stdout",
     "output_type": "stream",
     "text": [
      "\n",
      "    Mision a Mercurio\n",
      "    Tiempo total de viaje 60 minutos\n",
      "    Total de combustible 30000\n",
      "    \n"
     ]
    }
   ],
   "source": [
    "def reporte_mision(destino,*minutes,**fuel_reservoirs):\n",
    "    return f\"\"\"\n",
    "    Mision a {destino}\n",
    "    Tiempo total de viaje {sum(minutes)} minutos\n",
    "    Total de combustible {sum(fuel_reservoirs.values())}\n",
    "    \"\"\"\n",
    "\n",
    "print(reporte_mision(\"Mercurio\",15,40,5,tanque1=10000,tanque2=20000))"
   ]
  },
  {
   "cell_type": "code",
   "execution_count": 22,
   "metadata": {},
   "outputs": [
    {
     "name": "stdout",
     "output_type": "stream",
     "text": [
      "\n",
      "    Mision a Tierra\n",
      "    Tiempo total de viaje 120 minutos\n",
      "    Total de combustible 21000\n",
      "    tanque1 tanque --> 1000 galones left\n",
      " tanque2 tanque --> 20000 galones left\n",
      " \n"
     ]
    }
   ],
   "source": [
    "def reporte_mision(destino,*minutes,**fuel_reservoirs):\n",
    "    reporte = f\"\"\"\n",
    "    Mision a {destino}\n",
    "    Tiempo total de viaje {sum(minutes)} minutos\n",
    "    Total de combustible {sum(fuel_reservoirs.values())}\n",
    "    \"\"\"\n",
    "    for tanque,galones in fuel_reservoirs.items():\n",
    "        reporte += f\"{tanque} tanque --> {galones} galones \\n \"\n",
    "    return reporte\n",
    "\n",
    "print(reporte_mision(\"Tierra\",15,100,5,tanque1=1000,tanque2=20000))"
   ]
  }
 ],
 "metadata": {
  "interpreter": {
   "hash": "c00b5d046562b3034de06aaddc49c4ba55da10ade11ec459349b29ef2943b682"
  },
  "kernelspec": {
   "display_name": "Python 3.9.10 64-bit (windows store)",
   "language": "python",
   "name": "python3"
  },
  "language_info": {
   "codemirror_mode": {
    "name": "ipython",
    "version": 3
   },
   "file_extension": ".py",
   "mimetype": "text/x-python",
   "name": "python",
   "nbconvert_exporter": "python",
   "pygments_lexer": "ipython3",
   "version": "3.9.10"
  },
  "orig_nbformat": 4
 },
 "nbformat": 4,
 "nbformat_minor": 2
}
