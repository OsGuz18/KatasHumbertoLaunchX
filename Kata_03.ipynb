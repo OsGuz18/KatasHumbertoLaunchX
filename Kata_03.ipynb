{
 "cells": [
  {
   "cell_type": "markdown",
   "metadata": {},
   "source": [
    "# Kata Módulo 03"
   ]
  },
  {
   "cell_type": "code",
   "execution_count": 4,
   "metadata": {},
   "outputs": [
    {
     "name": "stdout",
     "output_type": "stream",
     "text": [
      "Alerta se acerca un asteroide\n"
     ]
    }
   ],
   "source": [
    "velocidadast=49\n",
    "if velocidadast > 25:\n",
    "    print(\"Alerta se acerca un asteroide\")\n",
    "else:\n",
    "    print(\"Todo perfecto, no hay asteroides\")\n"
   ]
  },
  {
   "cell_type": "code",
   "execution_count": 10,
   "metadata": {},
   "outputs": [
    {
     "name": "stdout",
     "output_type": "stream",
     "text": [
      "No hay nada en el cielo\n"
     ]
    }
   ],
   "source": [
    "velocidadast1 =15\n",
    "if velocidadast1 >= 20:\n",
    "    print(\"Hay luces en el cielo!\")\n",
    "else:\n",
    "    print(\"No hay nada en el cielo\")"
   ]
  },
  {
   "cell_type": "code",
   "execution_count": 17,
   "metadata": {},
   "outputs": [
    {
     "name": "stdout",
     "output_type": "stream",
     "text": [
      "Se acerca un ateroide demasiado peligroso\n"
     ]
    }
   ],
   "source": [
    "velocidadast2=28\n",
    "tamañoast=30\n",
    "\n",
    "if tamañoast > 25 and tamañoast <1000 and velocidadast2 > 25 :\n",
    "    print(\"Se acerca un ateroide demasiado peligroso\")\n",
    "elif tamañoast <= 25 and velocidadast2 > 25:\n",
    "    print(\"Se acerca un asteroide a la tierra\")\n",
    "elif velocidadast2 >= 20 and tamañoast <= 25:\n",
    "    print(\"Hay luces en el cielo\")\n",
    "else:\n",
    "    print(\"Todo tranquilo\")\n",
    "\n"
   ]
  }
 ],
 "metadata": {
  "interpreter": {
   "hash": "c00b5d046562b3034de06aaddc49c4ba55da10ade11ec459349b29ef2943b682"
  },
  "kernelspec": {
   "display_name": "Python 3.9.10 64-bit (windows store)",
   "language": "python",
   "name": "python3"
  },
  "language_info": {
   "codemirror_mode": {
    "name": "ipython",
    "version": 3
   },
   "file_extension": ".py",
   "mimetype": "text/x-python",
   "name": "python",
   "nbconvert_exporter": "python",
   "pygments_lexer": "ipython3",
   "version": "3.9.10"
  },
  "orig_nbformat": 4
 },
 "nbformat": 4,
 "nbformat_minor": 2
}
