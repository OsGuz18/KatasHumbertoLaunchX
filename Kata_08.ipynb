{
 "cells": [
  {
   "cell_type": "markdown",
   "metadata": {},
   "source": [
    "# KATA Módulo 08"
   ]
  },
  {
   "cell_type": "markdown",
   "metadata": {},
   "source": [
    "## Ejercicio 01"
   ]
  },
  {
   "cell_type": "code",
   "execution_count": 2,
   "metadata": {},
   "outputs": [
    {
     "name": "stdout",
     "output_type": "stream",
     "text": [
      "El planeta Mars tiene 2 lunas\n"
     ]
    }
   ],
   "source": [
    "planet={\n",
    "    \"name\":\"Mars\",\n",
    "    \"moons\":2\n",
    "}\n",
    "\n",
    "print(f'El planeta {planet[\"name\"]} tiene {planet[\"moons\"]} lunas')"
   ]
  },
  {
   "cell_type": "code",
   "execution_count": 3,
   "metadata": {},
   "outputs": [
    {
     "name": "stdout",
     "output_type": "stream",
     "text": [
      " El planeta Mars tiene una circunferencia polar de 6752\n"
     ]
    }
   ],
   "source": [
    "planet[\"circunferencia\"]= {\n",
    "    \"polar\":6752,\n",
    "    \"equatorial\":6792\n",
    "\n",
    "}\n",
    "\n",
    "print(f' El planeta {planet[\"name\"]} tiene una circunferencia polar de {planet[\"circunferencia\"][\"polar\"]} km')"
   ]
  },
  {
   "cell_type": "markdown",
   "metadata": {},
   "source": [
    "## Ejercicio 02"
   ]
  },
  {
   "cell_type": "code",
   "execution_count": 7,
   "metadata": {},
   "outputs": [],
   "source": [
    "planet_moons = {\n",
    "    'mercury': 0,\n",
    "    'venus': 0,\n",
    "    'earth': 1,\n",
    "    'mars': 2,\n",
    "    'jupiter': 79,\n",
    "    'saturn': 82,\n",
    "    'uranus': 27,\n",
    "    'neptune': 14,\n",
    "    'pluto': 5,\n",
    "    'haumea': 2,\n",
    "    'makemake': 1,\n",
    "    'eris': 1\n",
    "}\n",
    "\n",
    "numero_lunas=planet_moons.values()\n",
    "\n",
    "numero_planetas=len(planet_moons.keys())\n"
   ]
  },
  {
   "cell_type": "code",
   "execution_count": 8,
   "metadata": {},
   "outputs": [
    {
     "name": "stdout",
     "output_type": "stream",
     "text": [
      "17.833333333333332\n"
     ]
    }
   ],
   "source": [
    "numero_lunas_total=0\n",
    "\n",
    "for luna in numero_lunas:\n",
    "    numero_lunas_total= numero_lunas_total + luna\n",
    "\n",
    "promedio_lunas=numero_lunas_total/numero_planetas\n",
    "\n",
    "print(promedio_lunas)"
   ]
  }
 ],
 "metadata": {
  "interpreter": {
   "hash": "c00b5d046562b3034de06aaddc49c4ba55da10ade11ec459349b29ef2943b682"
  },
  "kernelspec": {
   "display_name": "Python 3.9.10 64-bit (windows store)",
   "language": "python",
   "name": "python3"
  },
  "language_info": {
   "codemirror_mode": {
    "name": "ipython",
    "version": 3
   },
   "file_extension": ".py",
   "mimetype": "text/x-python",
   "name": "python",
   "nbconvert_exporter": "python",
   "pygments_lexer": "ipython3",
   "version": "3.9.10"
  },
  "orig_nbformat": 4
 },
 "nbformat": 4,
 "nbformat_minor": 2
}
